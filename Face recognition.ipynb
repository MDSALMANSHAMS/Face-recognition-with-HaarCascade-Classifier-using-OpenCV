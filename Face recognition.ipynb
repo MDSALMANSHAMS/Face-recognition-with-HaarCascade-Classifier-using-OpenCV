{
 "cells": [
  {
   "cell_type": "markdown",
   "id": "8c0218ae",
   "metadata": {},
   "source": [
    "# Face recognition"
   ]
  },
  {
   "cell_type": "code",
   "execution_count": 1,
   "id": "c3d34a71",
   "metadata": {},
   "outputs": [],
   "source": [
    "import os\n",
    "import cv2 as cv\n",
    "import numpy as np"
   ]
  },
  {
   "cell_type": "code",
   "execution_count": 2,
   "id": "db8ad5aa",
   "metadata": {},
   "outputs": [],
   "source": [
    "people = ['Chris evans','Chris hemsworth','Hrithik roshan','Johnny depp','RDJ']      # labeling the peoples\n",
    "DIR = \"F:\\DataSet\\Train\"                                                             # training dataset path\n",
    "haar_cascade = cv.CascadeClassifier(\"F:\\HaarCascade.xml\")                            # classifier"
   ]
  },
  {
   "cell_type": "code",
   "execution_count": 3,
   "id": "ff8fc460",
   "metadata": {},
   "outputs": [
    {
     "name": "stdout",
     "output_type": "stream",
     "text": [
      "Training done ---------------\n"
     ]
    }
   ],
   "source": [
    "features = []                                      # Images\n",
    "labels = []                                        # name of peoples\n",
    "\n",
    "def create_train():                                        \n",
    "    for person in people:                          # creating loop for reading training dataset\n",
    "        path = os.path.join(DIR, person)\n",
    "        label = people.index(person)\n",
    "\n",
    "        for img in os.listdir(path):\n",
    "            img_path = os.path.join(path,img)\n",
    "\n",
    "            img_array = cv.imread(img_path)\n",
    "            if img_array is None:\n",
    "                continue \n",
    "                \n",
    "            gray = cv.cvtColor(img_array, cv.COLOR_BGR2GRAY)                                   # gray scaling the image\n",
    "\n",
    "            faces_rect = haar_cascade.detectMultiScale(gray, scaleFactor=1.1, minNeighbors=4)  # classifier get connected to the images\n",
    "\n",
    "            for (x,y,w,h) in faces_rect:\n",
    "                faces_roi = gray[y:y+h, x:x+w]\n",
    "                features.append(faces_roi)\n",
    "                labels.append(label)\n",
    "\n",
    "create_train()                                    # training the model\n",
    "print('Training done ---------------')"
   ]
  },
  {
   "cell_type": "code",
   "execution_count": 49,
   "id": "27bb5f87",
   "metadata": {},
   "outputs": [],
   "source": [
    "features = np.array(features, dtype='object')\n",
    "labels = np.array(labels)\n",
    "face_recognizer = cv.face.LBPHFaceRecognizer_create()\n",
    "\n",
    "face_recognizer.train(features,labels)           # Train the Recognizer on the features list and the labels list"
   ]
  },
  {
   "cell_type": "code",
   "execution_count": 51,
   "id": "8e49d2a4",
   "metadata": {},
   "outputs": [
    {
     "data": {
      "text/plain": [
       "-1"
      ]
     },
     "execution_count": 51,
     "metadata": {},
     "output_type": "execute_result"
    }
   ],
   "source": [
    "img = cv.imread(\"F:\\DataSet\\Val\\Chris evans\\download (8).jpg\")   # reading the validation data\n",
    "gray = cv.cvtColor(img, cv.COLOR_BGR2GRAY)\n",
    "\n",
    "cv.imshow('Person', gray)\n",
    "cv.waitKey(0)"
   ]
  },
  {
   "cell_type": "code",
   "execution_count": 52,
   "id": "430fb3f0",
   "metadata": {},
   "outputs": [
    {
     "name": "stdout",
     "output_type": "stream",
     "text": [
      "Label = Chris evans with a confidence of 89.04102287396722\n"
     ]
    },
    {
     "data": {
      "text/plain": [
       "-1"
      ]
     },
     "execution_count": 52,
     "metadata": {},
     "output_type": "execute_result"
    }
   ],
   "source": [
    "faces_rect = haar_cascade.detectMultiScale(gray, 1.1, 4)                           # Detect the face in the image\n",
    "\n",
    "for (x,y,w,h) in faces_rect:\n",
    "    faces_roi = gray[y:y+h,x:x+w]\n",
    "\n",
    "    label, confidence = face_recognizer.predict(faces_roi)                         # prediction\n",
    "    print(f'Label = {people[label]} with a confidence of {confidence}')             \n",
    "                                                                                   # & printing the accuracy\n",
    "        \n",
    "    cv.putText(img, str(people[label]), (20,20), cv.FONT_HERSHEY_COMPLEX, 1.0, (0,255,0), thickness=2)\n",
    "                                                                                   # labeling the name of person present in the image\n",
    "    cv.rectangle(img, (x,y), (x+w,y+h), (0,255,0), thickness=2)                    # drawing a rectangle around the face\n",
    "\n",
    "cv.imshow('Detected Face', img)\n",
    "cv.waitKey(0)"
   ]
  },
  {
   "cell_type": "code",
   "execution_count": null,
   "id": "5cad2457",
   "metadata": {},
   "outputs": [],
   "source": []
  },
  {
   "cell_type": "code",
   "execution_count": null,
   "id": "775005d8",
   "metadata": {},
   "outputs": [],
   "source": []
  }
 ],
 "metadata": {
  "kernelspec": {
   "display_name": "Python 3 (ipykernel)",
   "language": "python",
   "name": "python3"
  },
  "language_info": {
   "codemirror_mode": {
    "name": "ipython",
    "version": 3
   },
   "file_extension": ".py",
   "mimetype": "text/x-python",
   "name": "python",
   "nbconvert_exporter": "python",
   "pygments_lexer": "ipython3",
   "version": "3.9.7"
  }
 },
 "nbformat": 4,
 "nbformat_minor": 5
}
